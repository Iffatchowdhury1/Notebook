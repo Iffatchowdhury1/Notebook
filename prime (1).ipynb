{
 "cells": [
  {
   "cell_type": "code",
   "execution_count": 44,
   "metadata": {},
   "outputs": [],
   "source": [
    "is_it_prime = 121\n"
   ]
  },
  {
   "cell_type": "code",
   "execution_count": 45,
   "metadata": {},
   "outputs": [
    {
     "data": {
      "text/plain": [
       "121"
      ]
     },
     "execution_count": 45,
     "metadata": {},
     "output_type": "execute_result"
    }
   ],
   "source": [
    "is_it_prime"
   ]
  },
  {
   "cell_type": "code",
   "execution_count": 46,
   "metadata": {},
   "outputs": [
    {
     "name": "stdout",
     "output_type": "stream",
     "text": [
      "Not Prime\n"
     ]
    }
   ],
   "source": [
    "if is_it_prime == 2:\n",
    "    print('Prime')\n",
    "elif is_it_prime % 2 == 0:\n",
    "    print('Not Prime')\n",
    "elif is_it_prime % 3 == 0:\n",
    "    print('Not Prime')\n",
    "elif is_it_prime % 5 == 0:\n",
    "    print('Not Prime')\n",
    "elif is_it_prime % 7 == 0:\n",
    "    print('Not Prime')\n",
    "elif is_it_prime % 11 == 0:\n",
    "    print('Not Prime')\n",
    "elif is_it_prime % 13 == 0:\n",
    "    print('Not Prime')\n",
    "else:\n",
    "    print('Prime')"
   ]
  },
  {
   "cell_type": "code",
   "execution_count": 47,
   "metadata": {},
   "outputs": [],
   "source": [
    "import math\n",
    "    "
   ]
  },
  {
   "cell_type": "code",
   "execution_count": 49,
   "metadata": {},
   "outputs": [
    {
     "name": "stdout",
     "output_type": "stream",
     "text": [
      "Prime\n"
     ]
    }
   ],
   "source": [
    "v=0\n",
    "if is_it_prime % 2 == 0 and is_it_prime>2:\n",
    "    print('Not Prime')\n",
    "elif is_it_prime > 2:\n",
    "    for i in range(3, is_it_prime):\n",
    "        if is_it_prime % i == 0:\n",
    "            v=v+0\n",
    "        else:\n",
    "            v=v+1\n",
    "else:\n",
    "    pass\n",
    "\n",
    "if is_it_prime % 2 != 0 and v == 0:\n",
    "    print('Not Prime')\n",
    "elif v > 0:\n",
    "    print('Prime')"
   ]
  },
  {
   "cell_type": "code",
   "execution_count": null,
   "metadata": {},
   "outputs": [],
   "source": []
  },
  {
   "cell_type": "code",
   "execution_count": null,
   "metadata": {},
   "outputs": [],
   "source": []
  },
  {
   "cell_type": "code",
   "execution_count": null,
   "metadata": {},
   "outputs": [],
   "source": []
  },
  {
   "cell_type": "code",
   "execution_count": null,
   "metadata": {},
   "outputs": [],
   "source": []
  },
  {
   "cell_type": "code",
   "execution_count": null,
   "metadata": {},
   "outputs": [],
   "source": []
  },
  {
   "cell_type": "code",
   "execution_count": null,
   "metadata": {},
   "outputs": [],
   "source": []
  },
  {
   "cell_type": "code",
   "execution_count": null,
   "metadata": {},
   "outputs": [],
   "source": []
  },
  {
   "cell_type": "code",
   "execution_count": null,
   "metadata": {},
   "outputs": [],
   "source": []
  }
 ],
 "metadata": {
  "kernelspec": {
   "display_name": "Python 3",
   "language": "python",
   "name": "python3"
  },
  "language_info": {
   "codemirror_mode": {
    "name": "ipython",
    "version": 3
   },
   "file_extension": ".py",
   "mimetype": "text/x-python",
   "name": "python",
   "nbconvert_exporter": "python",
   "pygments_lexer": "ipython3",
   "version": "3.8.3"
  }
 },
 "nbformat": 4,
 "nbformat_minor": 4
}
