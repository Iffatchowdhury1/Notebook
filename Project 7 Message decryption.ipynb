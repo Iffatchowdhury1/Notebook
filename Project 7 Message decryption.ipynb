{
 "cells": [
  {
   "cell_type": "markdown",
   "metadata": {},
   "source": [
    "## Iffat Chowdhury\n",
    "## MTH 337 \n",
    "## Instructor - Richard Hollister"
   ]
  },
  {
   "cell_type": "markdown",
   "metadata": {},
   "source": [
    "# Project 7 Message decryption"
   ]
  },
  {
   "cell_type": "markdown",
   "metadata": {},
   "source": [
    "Message encryption is important and necessary when it comes to sending important information and is used during wars and by banks to just name a few of its usages. There are various ways to encrypt a message, for this project each of the text files was encrypted in the same way. \n",
    "\n",
    "Each message was broken into characters which included letters of words, spaces, punctuation, and $\\n$ which is not seen in the text files but is located at the end of every line. These characters are then arranged in an **n x c** array where c is a random number from 25 to 100. When the **n x c** array is built extra characters needed if the message is too short are done with the use of **&**. c multiplied by n should equal the number of characters that make up the message including the **&** at the end. The array is then transposed, the encrypted message will be the characters that are in the resulting array after removing the **&**.\n",
    "\n",
    "For this project, we are given the encrypted message and must make a function that decrypts the message."
   ]
  },
  {
   "cell_type": "code",
   "execution_count": 1,
   "metadata": {},
   "outputs": [],
   "source": [
    "import numpy as num"
   ]
  },
  {
   "cell_type": "code",
   "execution_count": 2,
   "metadata": {},
   "outputs": [],
   "source": [
    "def text(filename):\n",
    "    f = open(filename)                            # reads the file \n",
    "    string = ''                                   \n",
    "    for i in f:                                   # compiles lines and \\n from the file\n",
    "        string = string + i\n",
    "    f.close()\n",
    "    return string                                 # string of text from file includes \\n as needed"
   ]
  },
  {
   "cell_type": "markdown",
   "metadata": {},
   "source": [
    "The function $text(filename)$ reads the file that was inputted and creates a string of all the lines in the file and it includes $\\n$. This function creates an encrypted message."
   ]
  },
  {
   "cell_type": "code",
   "execution_count": 3,
   "metadata": {},
   "outputs": [
    {
     "data": {
      "text/plain": [
       "'I utt yidkhrfd re\\nfannoekfp hnrdc cytrgraaekfo_ n hneuy g ;oe it rIiso us otn se oAo h iefsm  \\nHmtfadsreois wcethts n wmntau,etotdunmtecb fo omfoosis ,nafninetvieo hdn yg sn whmuildeoroloenafiaur n t sr anevieom\\nte oi ,m dl-eurad s  nefc r nryeodbho;,tlcieorn;moaftnf at if cnl I\\nvoc  ttete h\\nf eef  h etrn : y ra\\n iIrhtkalh eh fifett o r ane le\\n nnem h,st b a upur iehena,tcaors pohm saoshxUintmeo ate ,haujdslrsswnya gt otrboiut eecovw nitk iyirmnhrI entujotoetae ttlta  dsmtsit ,o entmsoesm t oue  wrd dum p.\\nsrd heesmwle  \\noh_ mbl ostpwoeshtns hhhe sisewe v sitedr yayrLmaneYIposb _eii seehtcpaai yhct ir oi,dh   I s voers\\na ll rd nasc,vrehruvvcseai ot Iyn .elic o uen e ohsadaarac.ea e\\n :ibeehhtloifhi asa  anhrwsn,da itohi  ione rarat pl   o lut  ncgtn sn aenod otanhoonamnpd tenasratiIsyuI s om aerdBedtnm  ewn b esu,se,  thldlsun c eol l auymnsu\\nua hgecarh mlar_l  r h_hae  iediaanudceasr an,clt\\noeemolseoye . dtteaiYatsmvg  stnt  aan  sno te _ni buttnu  m\\nc ho nnan sionmI iy mbnvdtseytweaIYereenea thta\\noha fdth y syio\\nao yaene hea  hdr as\\nvrtrna oonIuatti sotoatannhlncoy o cea-phi nhh,we rednou nflv hch,ohusaggtel ou attay laelbeao oruyd yfsde desita ser ke ha op i  hn _arleydvotryp ,t  eert \\nonivt_  test,rdfysnssadpYntp   esod ot h_c,l hagmkoeh ipo  h  e  osettilags Itt _ synhteYu iienre n ahnr taentsmlmeca dehu,i hos b,e\\neh arwvn ye m gtahichn ohtyeeronm aoa twe iae aeianhieetc aoyoo vanoedtrer\\nf\\ntndarsogn.a snrcwrarteoo reewtf\\nuntebtn  r  obtc,d teeseo sopceoh;c  wosn lna  bteh iefdrudoyo:o \\ntta._,r  lee mi hoI._ieolsyrto  entroaeeareo rieoed\\n   Iyda aeci l\\n  tiuiu ehoos oa'"
      ]
     },
     "execution_count": 3,
     "metadata": {},
     "output_type": "execute_result"
    }
   ],
   "source": [
    "text('bas.txt')"
   ]
  },
  {
   "cell_type": "code",
   "execution_count": 4,
   "metadata": {},
   "outputs": [],
   "source": [
    "def line(filename, c):\n",
    "    start = text(filename)                            # string of text from file includes \\n as needed\n",
    "    fin_len = int(((len(start)-len(start)%c)+c)/c)    # the length of the wanted string\n",
    "    line= text(filename)                              # string of text from file includes \\n as needed\n",
    "    list1 = []\n",
    "    list2 = []\n",
    "    num = 1\n",
    "    add_ands = 0\n",
    "    for i in line:\n",
    "        list1.append(i)\n",
    "    if len(line)%c == 0:\n",
    "        ands = 0\n",
    "        return start                        # only if c divides perfectly with the length of the encrypted message\n",
    "    else:                                   # determines the number of &s \n",
    "        ands = c - len(line)%c\n",
    "        line = line + '&'\n",
    "        ands = ands - 1\n",
    "    if ands == 0:\n",
    "        return line\n",
    "    \n",
    "    while ands > 0:                         # determines where to put &s into the encrypted message\n",
    "        line = line[:(len(line)-add_ands)-(fin_len*num)] + '&' + line[(len(line)-add_ands)-(fin_len*num):]\n",
    "        ands = ands - 1\n",
    "        num = num + 1\n",
    "    \n",
    "    for i in line:\n",
    "        list1.append(i)\n",
    "    \n",
    "    string = ''.join(list1)                 # encryption message and encryption message with \\n and & make up the string\n",
    "    \n",
    "    rewrite = string.replace(start, '')     # encryption message with \\n and & only\n",
    "\n",
    "    return rewrite"
   ]
  },
  {
   "cell_type": "markdown",
   "metadata": {},
   "source": [
    "The function $𝑡𝑒𝑥𝑡(𝑓𝑖𝑙𝑒𝑛𝑎𝑚𝑒)$ returns the encrypted message but it is missing $&s$ that may have been removed. The function $line(filename ,c)$ determines how many $&s$ were removed and where they should be placed within the enctpted message, this all depends on the $c$ value used."
   ]
  },
  {
   "cell_type": "code",
   "execution_count": 5,
   "metadata": {},
   "outputs": [
    {
     "data": {
      "text/plain": [
       "'I utt yidkhrfd re\\nfannoekfp hnrdc cytrgraaekfo_ n hneuy g ;oe it rIiso us otn se oAo h iefsm  \\nHmtfadsreois wcethts n wmntau,etotdunmtecb fo omfoosis ,nafninetvieo hdn yg sn whmuildeoroloenafiaur n t sr anevieom\\nte oi ,m dl-eurad s  nefc r nryeodbho;,tlcieorn;moaftnf at if cnl I\\nvoc  ttete h\\nf eef  h etrn : y ra\\n iIrhtkalh eh fifett o r ane le\\n nnem h,st b a upur iehena,tcaors pohm saoshxUintmeo ate ,haujdslrsswnya gt otrboiut eecovw nitk iyirmnhrI entujotoetae ttlta  dsmtsit ,o entmsoesm t oue  wrd dum p.\\nsrd heesmwle  \\noh_ mbl ostpwoeshtns hhhe sisewe v sitedr yayrLmaneYIposb _eii seehtcpaai yhct ir oi,dh   I s voers\\na ll rd nasc,vrehruvvcseai ot Iyn .elic o uen e ohsadaarac.ea e\\n :ibeehhtloifhi asa  anhrwsn,da itohi  ione& rarat pl   o lut  ncgtn sn aenod otanhoonamnpd &tenasratiIsyuI s om aerdBedtnm  ewn b esu,se,  t&hldlsun c eol l auymnsu\\nua hgecarh mlar_l  r h_h&ae  iediaanudceasr an,clt\\noeemolseoye . dtteaiYa&tsmvg  stnt  aan  sno te _ni buttnu  m\\nc ho nnan& sionmI iy mbnvdtseytweaIYereenea thta\\noha fdth &y syio\\nao yaene hea  hdr as\\nvrtrna oonIuatti sot&oatannhlncoy o cea-phi nhh,we rednou nflv hch,oh&usaggtel ou attay laelbeao oruyd yfsde desita se&r ke ha op i  hn _arleydvotryp ,t  eert \\nonivt_ & test,rdfysnssadpYntp   esod ot h_c,l hagmkoeh i&po  h  e  osettilags Itt _ synhteYu iienre n ahn&r taentsmlmeca dehu,i hos b,e\\neh arwvn ye m gtah&ichn ohtyeeronm aoa twe iae aeianhieetc aoyoo va&noedtrer\\nf\\ntndarsogn.a snrcwrarteoo reewtf\\nunteb&tn  r  obtc,d teeseo sopceoh;c  wosn lna  bteh i&efdrudoyo:o \\ntta._,r  lee mi hoI._ieolsyrto  ent&roaeeareo rieoed\\n   Iyda aeci l\\n  tiuiu ehoos oa&'"
      ]
     },
     "execution_count": 5,
     "metadata": {},
     "output_type": "execute_result"
    }
   ],
   "source": [
    "line('bas.txt', 33)"
   ]
  },
  {
   "cell_type": "code",
   "execution_count": 6,
   "metadata": {},
   "outputs": [],
   "source": [
    "def arr(filename, c):\n",
    "    de = line(filename, c)                          # string of encrypted message that includes \\n and &\n",
    "    list1 = []\n",
    "    list2 = []\n",
    "    for i in de:\n",
    "        list1.append(i)\n",
    "    array1 = num.array(list1)                      # turns list1 in an array\n",
    "    shaped = array1.reshape(c,int(len(de)/c))      # reshapes the array based on c value\n",
    "    tran = num.transpose(shaped)                   # changes c x n array into n x c array\n",
    "    return tran"
   ]
  },
  {
   "cell_type": "markdown",
   "metadata": {},
   "source": [
    "The function $arr(filename, c)$ uses the function $line(filename, c)$ and creates an array that goes from being **c x n** to being **n x c** that contains and moves around the characters from the encrypted message."
   ]
  },
  {
   "cell_type": "code",
   "execution_count": 7,
   "metadata": {},
   "outputs": [
    {
     "data": {
      "text/plain": [
       "array([['I', ' ', 'f', ..., 't', 'e', 'r'],\n",
       "       [' ', 'h', 'a', ..., 'n', 'f', 'o'],\n",
       "       ['u', 'n', 'd', ..., ' ', 'd', 'a'],\n",
       "       ...,\n",
       "       ['_', 'H', 'o', ..., ' ', 'n', 'o'],\n",
       "       [' ', 'm', 'o', ..., 'i', 't', 'a'],\n",
       "       ['n', 't', 's', ..., '&', '&', '&']], dtype='<U1')"
      ]
     },
     "execution_count": 7,
     "metadata": {},
     "output_type": "execute_result"
    }
   ],
   "source": [
    "arr('bas.txt', 33)"
   ]
  },
  {
   "cell_type": "code",
   "execution_count": 8,
   "metadata": {},
   "outputs": [],
   "source": [
    "def message(filename, c):\n",
    "    string = ''                              # this will compile the message\n",
    "    for i in arr(filename, c):               # combines charaters in a array to creat a string\n",
    "        for j in i:\n",
    "            string = string + j\n",
    "    return string.replace('\\n', ' ')         # removes \\n and replaces it with a space"
   ]
  },
  {
   "cell_type": "markdown",
   "metadata": {},
   "source": [
    "The function $message(filename, c)$ will create a string that should be readable if the correct number was inputted for the c value, it uses the array that was created from the $arr(filename, c)$ function. The output of the function still contains the $&$ and does not make any spacing based on the $\\n$, the message will be cleaned up in the $decrypt(filename)$ function."
   ]
  },
  {
   "cell_type": "code",
   "execution_count": 9,
   "metadata": {},
   "outputs": [
    {
     "data": {
      "text/plain": [
       "'I find likewise that your printer has been so careless as to confound the times, and mistake the dates, of my several voyages and returns; neither assigning the true year, nor the true month, nor day of the month: and I hear the original manuscript is all destroyed since the publication of my book; neither have I any copy left: however, I have sent you some corrections, which you may insert, if ever there should be a second edition: and yet I cannot stand to them; but shall leave that matter to my judicious and candid readers to adjust it as they please.  I hear some of our sea _Yahoos_ find fault with my sea-language, as not proper in many parts, nor now in use.  I cannot help it.  In my first voyages, while I was young, I was instructed by the oldest mariners, and learned to speak as they did.  But I have since found that the sea _Yahoos_ are apt, like the land ones, to become new-fangled in their words, which the latter change every year; insomuch, as I remember upon each return to my own country their old dialect was so altered, that I could hardly understand the new.  And I observe, when any _Yahoo_ comes from London out of curiosity to visit me at my house, we neither of us are able to deliver our conceptions in a manner intelligible to the other.  If the censure of the _Yahoos_ could any way affect me, I should have great reason to complain, that some of them are so bold as to think my book of travels a mere fiction out of mine own brain, and have gone so far as to drop hints, that the _Houyhnhnms_ and _Yahoos_ have no more existence than the inhabitants of Utopia.&&&&&&&&&&&&&&&&&&&'"
      ]
     },
     "execution_count": 9,
     "metadata": {},
     "output_type": "execute_result"
    }
   ],
   "source": [
    "message('bas.txt', 33)"
   ]
  },
  {
   "cell_type": "code",
   "execution_count": 10,
   "metadata": {},
   "outputs": [],
   "source": [
    "def c_value(filename):\n",
    "    f = open('dictionary.txt')\n",
    "    list1 = []                                       # list of words from the dictionary\n",
    "    list_count = []                                  # number of real words in each message for each of the possible c values\n",
    "    number = 0\n",
    "    ind = -1\n",
    "    for i in f:\n",
    "        list1.append(i.strip('\\n'))                  # list1 contains all of the words in the dictionary\n",
    "    f.close()\n",
    "    for i in range(25,101):                          # testing all c values from 25 to 100\n",
    "        words = message(filename, i).split()\n",
    "        count = 0                                    # resets count to zero from each c that is tested\n",
    "        for d in words:\n",
    "            if d in list1:\n",
    "                count = count + 1                    # number of real words in a message \n",
    "        list_count.append(count)\n",
    "        for i in list_count:                         # finds the highest number in list_count\n",
    "            if i > number:\n",
    "                number = i                           \n",
    "    for i in list_count:\n",
    "        ind = ind + 1                                # determines location of highest number in list_count\n",
    "        if i == number:                      \n",
    "            return ind + 25                          # position in list_count plus 25 is the c value used to get that value"
   ]
  },
  {
   "cell_type": "markdown",
   "metadata": {},
   "source": [
    "This is a very important function when it comes to decrypting a message, $c$_$value(filename)$ determines what the $c$ value used in the inputted file is. It does this by testing every $c$ value from 25 to 100 in the function $message(filename, i)$ and determines which $c$ value results in a message with the most English words in it by using the English dictionary."
   ]
  },
  {
   "cell_type": "code",
   "execution_count": 11,
   "metadata": {},
   "outputs": [
    {
     "data": {
      "text/plain": [
       "33"
      ]
     },
     "execution_count": 11,
     "metadata": {},
     "output_type": "execute_result"
    }
   ],
   "source": [
    "c_value('bas.txt')   # takes less then one minute to run"
   ]
  },
  {
   "cell_type": "code",
   "execution_count": 12,
   "metadata": {},
   "outputs": [],
   "source": [
    "def decrypt(filename):\n",
    "    c = c_value(filename)                 # determines the c used to encrypt\n",
    "    string = ''\n",
    "    for i in arr(filename, c):            # message is in an n x c array\n",
    "        for j in i:\n",
    "            string = string + j\n",
    "    string=string.strip('&')              # removes &s from the string\n",
    "    list_of_string=string.split('\\n')     # removes \\n from the string\n",
    "    for stri in list_of_string:\n",
    "        print(stri)                       # print instead of return so that the message is formatted"
   ]
  },
  {
   "cell_type": "markdown",
   "metadata": {},
   "source": [
    "The function $decrypt(filename)$ decrypts the encrypted message. As shown $c$_$value(filename)$ determines the c value used too encrypt a file and $arr(filename, c)$ uses this $c$ value to create the decrypted message. The function $decrypt(filename)$ includes spacings based on the $\\n$ and it also removes the $&s$."
   ]
  },
  {
   "cell_type": "code",
   "execution_count": 13,
   "metadata": {},
   "outputs": [
    {
     "name": "stdout",
     "output_type": "stream",
     "text": [
      "I find likewise that your printer has been so careless as to confound the\n",
      "times, and mistake the dates, of my several voyages and returns; neither\n",
      "assigning the true year, nor the true month, nor day of the month: and I\n",
      "hear the original manuscript is all destroyed since the publication of my\n",
      "book; neither have I any copy left: however, I have sent you some\n",
      "corrections, which you may insert, if ever there should be a second\n",
      "edition: and yet I cannot stand to them; but shall leave that matter to\n",
      "my judicious and candid readers to adjust it as they please.\n",
      "\n",
      "I hear some of our sea _Yahoos_ find fault with my sea-language, as not\n",
      "proper in many parts, nor now in use.  I cannot help it.  In my first\n",
      "voyages, while I was young, I was instructed by the oldest mariners, and\n",
      "learned to speak as they did.  But I have since found that the sea\n",
      "_Yahoos_ are apt, like the land ones, to become new-fangled in their\n",
      "words, which the latter change every year; insomuch, as I remember upon\n",
      "each return to my own country their old dialect was so altered, that I\n",
      "could hardly understand the new.  And I observe, when any _Yahoo_ comes\n",
      "from London out of curiosity to visit me at my house, we neither of us\n",
      "are able to deliver our conceptions in a manner intelligible to the\n",
      "other.\n",
      "\n",
      "If the censure of the _Yahoos_ could any way affect me, I should have\n",
      "great reason to complain, that some of them are so bold as to think my\n",
      "book of travels a mere fiction out of mine own brain, and have gone so\n",
      "far as to drop hints, that the _Houyhnhnms_ and _Yahoos_ have no more\n",
      "existence than the inhabitants of Utopia.\n"
     ]
    }
   ],
   "source": [
    "decrypt('bas.txt')  # takes less then one minute to run"
   ]
  }
 ],
 "metadata": {
  "kernelspec": {
   "display_name": "Python 3",
   "language": "python",
   "name": "python3"
  },
  "language_info": {
   "codemirror_mode": {
    "name": "ipython",
    "version": 3
   },
   "file_extension": ".py",
   "mimetype": "text/x-python",
   "name": "python",
   "nbconvert_exporter": "python",
   "pygments_lexer": "ipython3",
   "version": "3.8.3"
  }
 },
 "nbformat": 4,
 "nbformat_minor": 4
}
